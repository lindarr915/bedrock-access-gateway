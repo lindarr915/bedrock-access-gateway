{
 "cells": [
  {
   "cell_type": "code",
   "execution_count": 10,
   "metadata": {},
   "outputs": [],
   "source": [
    "from langchain.agents import AgentExecutor, create_tool_calling_agent\n",
    "from langchain_core.messages import HumanMessage\n",
    "from langchain_core.prompts import *\n",
    "from langchain.tools import tool\n",
    "from langchain_openai import AzureOpenAIEmbeddings, AzureChatOpenAI\n",
    "from tenacity import retry, stop_after_attempt, wait_exponential\n",
    "\n",
    "@tool\n",
    "def trident_cve_tool(cve_id: str):\n",
    "    \"\"\"\n",
    "    This is a CVE tool to call trident CVE information.\n",
    "    It should be used to fetch general information of a specific cve (format like CVE-XXX-XXX).\n",
    "    The general information from Trident API includes:\n",
    "    cve id, name, description, update date, publish date and some other public available information.\n",
    "    \"\"\"\n",
    "    return str(\"Trident CVE data\")\n",
    "\n",
    "prompt = ChatPromptTemplate.from_messages(\n",
    "    [\n",
    "        SystemMessagePromptTemplate(\n",
    "            prompt=PromptTemplate(\n",
    "                input_variables=[\"cve_id\"],\n",
    "                template=\"You are a helpful assistant to explain a certain CVE {cve_id} in detail\",\n",
    "            )\n",
    "        ),\n",
    "        MessagesPlaceholder(variable_name=\"chat_history\", optional=True),\n",
    "        HumanMessagePromptTemplate(\n",
    "            prompt=PromptTemplate(\n",
    "                input_variables=[\"question\"],\n",
    "                template=\"Please answer this question: {question}\",\n",
    "            )\n",
    "        ),\n",
    "        MessagesPlaceholder(variable_name=\"agent_scratchpad\"),\n",
    "    ]\n",
    ")\n",
    "tools = [trident_cve_tool]\n",
    "\n",
    "@retry(stop=stop_after_attempt(3), wait=wait_exponential(multiplier=1, min=4, max=10))\n",
    "def create_llm():\n",
    "    return AzureChatOpenAI(\n",
    "        temperature=0.0,\n",
    "        azure_endpoint=\"http://localhost:8000\",\n",
    "        openai_api_key=\"bedrock\",\n",
    "        openai_api_version=\"2024-06-01\",\n",
    "        deployment_name=\"anthropic.claude-3-5-sonnet-20240620-v1:0\",    \n",
    "        # deployment_name=\"gpt-4o_2024-05-13\",\n",
    "        openai_api_type=\"azure\",\n",
    "    )\n",
    "\n",
    "\n"
   ]
  },
  {
   "cell_type": "code",
   "execution_count": null,
   "metadata": {},
   "outputs": [],
   "source": [
    "llm = create_llm()\n",
    "llm.temperature = 0.0\n",
    "agent = create_tool_calling_agent(llm, tools=tools, prompt=prompt)\n",
    "agent_executor = AgentExecutor(agent=agent, tools=tools, verbose=True)\n",
    "content = agent_executor.invoke(\n",
    "    {\"question\": \"What is CVE-2020-17087?\", \"cve_id\": \"CVE-2020-17087\"}\n",
    ")\n",
    "print(content)\n"
   ]
  },
  {
   "cell_type": "code",
   "execution_count": null,
   "metadata": {},
   "outputs": [],
   "source": [
    "# Load a picture from a local file and convert to base64\n",
    "# from llm_utils import LLMUtils\n",
    "import base64\n",
    "\n",
    "# llm = LLMUtils(model_name=\"anthropic.claude-3-5-sonnet-20240620-v1:0\")\n",
    "\n",
    "\n",
    "content = llm.invoke(\n",
    "    \"What is happening in this image?\",\n",
    "    images=[encoded_string],\n",
    "    config={\"max_tokens\": 2, \"temperature\": 0.5},\n",
    ")\n",
    "\n",
    "print(content)\n",
    "\n",
    "content = llm.invoke(\n",
    "    \"What is the capital of France?\",\n",
    "    config={\"max_tokens\": 2, \"temperature\": 0.5},\n",
    ")\n",
    "\n",
    "print(content)"
   ]
  },
  {
   "cell_type": "code",
   "execution_count": null,
   "metadata": {},
   "outputs": [],
   "source": [
    "with open(\"test.jpg\", \"rb\") as image_file:\n",
    "    encoded_string = base64.b64encode(image_file.read()).decode(\"utf-8\")\n",
    "\n",
    "\n",
    "message = HumanMessage(\n",
    "    content=[\n",
    "        {\n",
    "            \"type\": \"text\",\n",
    "            \"text\": \"describe the weather in this image\"\n",
    "        },\n",
    "        {\n",
    "            \"type\": \"image_url\",\n",
    "            \"image_url\": {\"url\": f\"data:image/jpeg;base64,{encoded_string}\"},\n",
    "        },\n",
    "    ],\n",
    ")\n",
    "response = llm.invoke([message])\n",
    "print(response.content)"
   ]
  },
  {
   "cell_type": "code",
   "execution_count": null,
   "metadata": {},
   "outputs": [],
   "source": [
    "with open(\"test.jpg\", \"rb\") as image_file:\n",
    "    encoded_string = base64.b64encode(image_file.read()).decode(\"utf-8\")\n",
    "\n",
    "message = HumanMessage(\n",
    "    content=[\n",
    "        {\n",
    "            \"type\": \"image_url\",\n",
    "            \"image_url\": {\"url\": f\"data:image/jpeg;base64,{encoded_string}\"},\n",
    "        },\n",
    "        {\n",
    "            \"type\": \"text\",\n",
    "            \"text\": \"describe the weather in this image\"\n",
    "        },\n",
    "    ],\n",
    ")\n",
    "response = llm.invoke([message])\n",
    "print(response.content)"
   ]
  },
  {
   "cell_type": "code",
   "execution_count": null,
   "metadata": {},
   "outputs": [],
   "source": [
    "prompt = ChatPromptTemplate.from_messages(\n",
    "    [\n",
    "        (\"system\", \"compare the two pictures provided\"),\n",
    "        (\n",
    "            \"user\",\n",
    "            [\n",
    "                {\n",
    "                    \"type\": \"image_url\",\n",
    "                    \"image_url\": {\"url\": \"data:image/jpeg;base64,{image_data1}\"},\n",
    "                },\n",
    "                {\n",
    "                    \"type\": \"image_url\",\n",
    "                    \"image_url\": {\"url\": \"data:image/jpeg;base64,{image_data2}\"},\n",
    "                },\n",
    "            ],\n",
    "        ),\n",
    "    ]\n",
    ")"
   ]
  },
  {
   "cell_type": "code",
   "execution_count": 24,
   "metadata": {},
   "outputs": [
    {
     "name": "stdout",
     "output_type": "stream",
     "text": [
      "Hello! How can I assist you today? Feel free to ask me any questions or let me know if you need help with anything.\n"
     ]
    }
   ],
   "source": [
    "# Create a system message\n",
    "from langchain_core.messages import SystemMessage, HumanMessage \n",
    "\n",
    "system_message = SystemMessage(content=\"You are a helpful assistant.\")\n",
    "\n",
    "# Create a human message (replace \"Hello\" with your actual query)\n",
    "human_message = HumanMessage(content=\"Hello\")\n",
    "\n",
    "# Pass both messages to the model\n",
    "response = llm.invoke([system_message, human_message])\n",
    "print(response.content)"
   ]
  },
  {
   "cell_type": "code",
   "execution_count": 26,
   "metadata": {},
   "outputs": [
    {
     "data": {
      "text/plain": [
       "AIMessage(content=\"Here's the German translation:\\n\\nIch liebe Programmieren.\", response_metadata={'token_usage': {'completion_tokens': 18, 'prompt_tokens': 23, 'total_tokens': 41}, 'model_name': 'anthropic.claude-3-5-sonnet-20240620-v1:0', 'system_fingerprint': 'fp', 'finish_reason': 'stop', 'logprobs': None, 'content_filter_results': {}}, id='run-693ccff6-4a54-4825-9771-2dc2d87a0606-0')"
      ]
     },
     "execution_count": 26,
     "metadata": {},
     "output_type": "execute_result"
    }
   ],
   "source": [
    "from langchain_core.prompts import ChatPromptTemplate\n",
    "\n",
    "prompt = ChatPromptTemplate.from_messages(\n",
    "    [\n",
    "        (\n",
    "            \"system\",\n",
    "            \"You are a helpful assistant that translates {input_language} to {output_language}.\",\n",
    "        ),\n",
    "        (\"human\", \"{input}\"),\n",
    "        {\"ai\",\"Here\\'s the German translation:\\n\\nIch liebe Programmieren.\"},\n",
    "        {\"human\",\"That's great!\"},\n",
    "    ]\n",
    "    \n",
    ")\n",
    "chain = prompt | llm\n",
    "chain.invoke(\n",
    "    {\n",
    "        \"input_language\": \"English\",\n",
    "        \"output_language\": \"German\",\n",
    "        \"input\": \"I love programming.\",\n",
    "    }\n",
    ")"
   ]
  }
 ],
 "metadata": {
  "kernelspec": {
   "display_name": "base",
   "language": "python",
   "name": "python3"
  },
  "language_info": {
   "codemirror_mode": {
    "name": "ipython",
    "version": 3
   },
   "file_extension": ".py",
   "mimetype": "text/x-python",
   "name": "python",
   "nbconvert_exporter": "python",
   "pygments_lexer": "ipython3",
   "version": "3.11.5"
  }
 },
 "nbformat": 4,
 "nbformat_minor": 2
}
